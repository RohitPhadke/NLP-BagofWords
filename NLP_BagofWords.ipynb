{
  "nbformat": 4,
  "nbformat_minor": 0,
  "metadata": {
    "colab": {
      "name": "NLP_BagofWords.ipynb",
      "provenance": []
    },
    "kernelspec": {
      "name": "python3",
      "display_name": "Python 3"
    }
  },
  "cells": [
    {
      "cell_type": "markdown",
      "metadata": {
        "id": "qlD2uCrZ1KKB",
        "colab_type": "text"
      },
      "source": [
        "##**Importing nltk library for language processing**"
      ]
    },
    {
      "cell_type": "code",
      "metadata": {
        "id": "g8Cvyinmwk14",
        "colab_type": "code",
        "colab": {
          "base_uri": "https://localhost:8080/",
          "height": 124
        },
        "outputId": "bd15e035-0d3c-4a63-da54-d9511e52c23c"
      },
      "source": [
        "import nltk  # Library for language processing\n",
        "nltk.download('punkt') # Download the required package\n",
        "nltk.download('stopwords') # Download the required package\n",
        "nltk.download('wordnet') # Download the required package\n",
        "import re #Library for String searching and manipulation\n",
        "from nltk.corpus import stopwords # Libraring to remove stopwords\n",
        "from nltk.stem.porter import PorterStemmer # Library for stemming\n",
        "from nltk.stem import WordNetLemmatizer # Library for Lemmatization"
      ],
      "execution_count": 68,
      "outputs": [
        {
          "output_type": "stream",
          "text": [
            "[nltk_data] Downloading package punkt to /root/nltk_data...\n",
            "[nltk_data]   Package punkt is already up-to-date!\n",
            "[nltk_data] Downloading package stopwords to /root/nltk_data...\n",
            "[nltk_data]   Package stopwords is already up-to-date!\n",
            "[nltk_data] Downloading package wordnet to /root/nltk_data...\n",
            "[nltk_data]   Package wordnet is already up-to-date!\n"
          ],
          "name": "stdout"
        }
      ]
    },
    {
      "cell_type": "code",
      "metadata": {
        "id": "RkActx-rx1lF",
        "colab_type": "code",
        "colab": {}
      },
      "source": [
        "paragraph = \"\"\"The Republic of India is a country in Asia. It has an area of 3,287,263 square kilometres (1,269,219 sq mi). It is at the center of South Asia. India has more than 1.2 billion (1,210,000,000) people, which is the second largest population in the world. It is the seventh largest country in the world by area and the largest country in South Asia. It is also the most populous democracy in the world.\n",
        "\n",
        "India has seven neighbours: Pakistan in the north-west, China and Nepal in the north, Bhutan and Bangladesh in the north-east, Myanmar in the east and Sri Lanka, an island, in the south.\n",
        "\n",
        "The capital of India is New Delhi. India is a peninsula, bound by the Indian Ocean in the south, the Arabian Sea on the west and Bay of Bengal in the east. The coastline of India is of about 7,517 km (4,671 mi) long. India has the third largest military force in the world and is also a nuclear weapon state.\n",
        "\n",
        "India's economy became the world's fastest growing in the G20 developing nations in the last quarter of 2014, replacing the People's Republic of China. India's literacy and wealth are also rising.According to New World Wealth, India is the seventh richest country in the world with a total individual wealth of $5.6 trillion. However, it still has many social and economic issues like poverty and corruption. India is a founding member of the World Trade Organisation (WTO), and has signed the Kyoto Protocol.\n",
        "\n",
        "India has the fourth largest number of spoken languages per country in the world, only behind Papua New Guinea, Indonesia, and Nigeria. People of many different religions live there, including the five most popular world religions: Hinduism, Buddhism, Sikhism, Islam, and Christianity. The first three religions came from the Indian subcontinent along with Jainism.\"\"\""
      ],
      "execution_count": 0,
      "outputs": []
    },
    {
      "cell_type": "markdown",
      "metadata": {
        "id": "sVrh5WFe2-uX",
        "colab_type": "text"
      },
      "source": [
        "###**Cleaning the texts**"
      ]
    },
    {
      "cell_type": "code",
      "metadata": {
        "id": "28XhtBMHx89-",
        "colab_type": "code",
        "colab": {}
      },
      "source": [
        "wordnet=WordNetLemmatizer()\n",
        "sentences = nltk.sent_tokenize(paragraph)\n",
        "corpus = []\n",
        "for i in range(len(sentences)):\n",
        "    review = re.sub('[^a-zA-Z]', ' ', sentences[i])\n",
        "    review = review.lower()\n",
        "    review = review.split()\n",
        "    review = [wordnet.lemmatize(word) for word in review if not word in set(stopwords.words('english'))]\n",
        "    review = ' '.join(review)\n",
        "    corpus.append(review)"
      ],
      "execution_count": 0,
      "outputs": []
    },
    {
      "cell_type": "markdown",
      "metadata": {
        "id": "g0bW2hqi3RpJ",
        "colab_type": "text"
      },
      "source": [
        "###**Creating the Bag of Words model using CountVectorizer**"
      ]
    },
    {
      "cell_type": "code",
      "metadata": {
        "id": "n7RTSyvSyKbc",
        "colab_type": "code",
        "colab": {}
      },
      "source": [
        "from sklearn.feature_extraction.text import CountVectorizer\n",
        "cv = CountVectorizer(max_features = 1500)\n",
        "X = cv.fit_transform(corpus).toarray()"
      ],
      "execution_count": 0,
      "outputs": []
    },
    {
      "cell_type": "markdown",
      "metadata": {
        "id": "Ohd1qtzp3hxT",
        "colab_type": "text"
      },
      "source": [
        "###**Let's see our tokenized sentences**"
      ]
    },
    {
      "cell_type": "code",
      "metadata": {
        "id": "IhEwmzfQy3db",
        "colab_type": "code",
        "colab": {
          "base_uri": "https://localhost:8080/",
          "height": 337
        },
        "outputId": "e42cf2a6-1a16-4d6f-fc7b-e0b1d8fcc407"
      },
      "source": [
        "sentences"
      ],
      "execution_count": 72,
      "outputs": [
        {
          "output_type": "execute_result",
          "data": {
            "text/plain": [
              "['The Republic of India is a country in Asia.',\n",
              " 'It has an area of 3,287,263 square kilometres (1,269,219 sq mi).',\n",
              " 'It is at the center of South Asia.',\n",
              " 'India has more than 1.2 billion (1,210,000,000) people, which is the second largest population in the world.',\n",
              " 'It is the seventh largest country in the world by area and the largest country in South Asia.',\n",
              " 'It is also the most populous democracy in the world.',\n",
              " 'India has seven neighbours: Pakistan in the north-west, China and Nepal in the north, Bhutan and Bangladesh in the north-east, Myanmar in the east and Sri Lanka, an island, in the south.',\n",
              " 'The capital of India is New Delhi.',\n",
              " 'India is a peninsula, bound by the Indian Ocean in the south, the Arabian Sea on the west and Bay of Bengal in the east.',\n",
              " 'The coastline of India is of about 7,517 km (4,671 mi) long.',\n",
              " 'India has the third largest military force in the world and is also a nuclear weapon state.',\n",
              " \"India's economy became the world's fastest growing in the G20 developing nations in the last quarter of 2014, replacing the People's Republic of China.\",\n",
              " \"India's literacy and wealth are also rising.According to New World Wealth, India is the seventh richest country in the world with a total individual wealth of $5.6 trillion.\",\n",
              " 'However, it still has many social and economic issues like poverty and corruption.',\n",
              " 'India is a founding member of the World Trade Organisation (WTO), and has signed the Kyoto Protocol.',\n",
              " 'India has the fourth largest number of spoken languages per country in the world, only behind Papua New Guinea, Indonesia, and Nigeria.',\n",
              " 'People of many different religions live there, including the five most popular world religions: Hinduism, Buddhism, Sikhism, Islam, and Christianity.',\n",
              " 'The first three religions came from the Indian subcontinent along with Jainism.']"
            ]
          },
          "metadata": {
            "tags": []
          },
          "execution_count": 72
        }
      ]
    },
    {
      "cell_type": "markdown",
      "metadata": {
        "id": "F1yyW3Mu3uHR",
        "colab_type": "text"
      },
      "source": [
        "###**Let's see our corpus after text cleaning and lemmatization**"
      ]
    },
    {
      "cell_type": "code",
      "metadata": {
        "id": "t2xUYc7ry2kb",
        "colab_type": "code",
        "colab": {
          "base_uri": "https://localhost:8080/",
          "height": 337
        },
        "outputId": "11565163-538d-4cb7-dfc4-8d95f7f7f660"
      },
      "source": [
        "corpus"
      ],
      "execution_count": 73,
      "outputs": [
        {
          "output_type": "execute_result",
          "data": {
            "text/plain": [
              "['republic india country asia',\n",
              " 'area square kilometre sq mi',\n",
              " 'center south asia',\n",
              " 'india billion people second largest population world',\n",
              " 'seventh largest country world area largest country south asia',\n",
              " 'also populous democracy world',\n",
              " 'india seven neighbour pakistan north west china nepal north bhutan bangladesh north east myanmar east sri lanka island south',\n",
              " 'capital india new delhi',\n",
              " 'india peninsula bound indian ocean south arabian sea west bay bengal east',\n",
              " 'coastline india km mi long',\n",
              " 'india third largest military force world also nuclear weapon state',\n",
              " 'india economy became world fastest growing g developing nation last quarter replacing people republic china',\n",
              " 'india literacy wealth also rising according new world wealth india seventh richest country world total individual wealth trillion',\n",
              " 'however still many social economic issue like poverty corruption',\n",
              " 'india founding member world trade organisation wto signed kyoto protocol',\n",
              " 'india fourth largest number spoken language per country world behind papua new guinea indonesia nigeria',\n",
              " 'people many different religion live including five popular world religion hinduism buddhism sikhism islam christianity',\n",
              " 'first three religion came indian subcontinent along jainism']"
            ]
          },
          "metadata": {
            "tags": []
          },
          "execution_count": 73
        }
      ]
    },
    {
      "cell_type": "markdown",
      "metadata": {
        "id": "gx-bH-Xl7Fol",
        "colab_type": "text"
      },
      "source": [
        "##**Observations:-** \n",
        "###**Lemmatization**\n",
        "- We first applied tokenization to our paragraph\n",
        "- Then we applied lemmatization to the tokenized sentences\n",
        "- We can see that after lemmatizing the tokenized sentences the corpus consists of meaningful words\n",
        "- Thus, for sentiment analysis we can use lemmatization for text pre-processing "
      ]
    },
    {
      "cell_type": "markdown",
      "metadata": {
        "id": "8quuUWiF35l_",
        "colab_type": "text"
      },
      "source": [
        "###**Now we will also perform stemming on our paragraph**"
      ]
    },
    {
      "cell_type": "code",
      "metadata": {
        "id": "s7XxT8Um2Hrb",
        "colab_type": "code",
        "colab": {}
      },
      "source": [
        "ps = PorterStemmer()\n",
        "sentences = nltk.sent_tokenize(paragraph)\n",
        "corpus = []\n",
        "for i in range(len(sentences)):\n",
        "    review = re.sub('[^a-zA-Z]', ' ', sentences[i])\n",
        "    review = review.lower()\n",
        "    review = review.split()\n",
        "    review = [ps.stem(word) for word in review if not word in set(stopwords.words('english'))]\n",
        "    review = ' '.join(review)\n",
        "    corpus.append(review)"
      ],
      "execution_count": 0,
      "outputs": []
    },
    {
      "cell_type": "markdown",
      "metadata": {
        "id": "4gX6rm244Nbr",
        "colab_type": "text"
      },
      "source": [
        "###**Creating the Bag of Words model using CountVectorizer**"
      ]
    },
    {
      "cell_type": "code",
      "metadata": {
        "id": "fEoGQogizkwn",
        "colab_type": "code",
        "colab": {}
      },
      "source": [
        "from sklearn.feature_extraction.text import CountVectorizer\n",
        "cv = CountVectorizer(max_features = 1500)\n",
        "X = cv.fit_transform(corpus).toarray()"
      ],
      "execution_count": 0,
      "outputs": []
    },
    {
      "cell_type": "markdown",
      "metadata": {
        "id": "m7lpIM9u4X0y",
        "colab_type": "text"
      },
      "source": [
        "###**Let's see our tokenized sentences**"
      ]
    },
    {
      "cell_type": "code",
      "metadata": {
        "id": "iu-S79CW2jeI",
        "colab_type": "code",
        "colab": {
          "base_uri": "https://localhost:8080/",
          "height": 337
        },
        "outputId": "39dd38fa-6541-41d9-98b8-815b2ea1483a"
      },
      "source": [
        "sentences"
      ],
      "execution_count": 76,
      "outputs": [
        {
          "output_type": "execute_result",
          "data": {
            "text/plain": [
              "['The Republic of India is a country in Asia.',\n",
              " 'It has an area of 3,287,263 square kilometres (1,269,219 sq mi).',\n",
              " 'It is at the center of South Asia.',\n",
              " 'India has more than 1.2 billion (1,210,000,000) people, which is the second largest population in the world.',\n",
              " 'It is the seventh largest country in the world by area and the largest country in South Asia.',\n",
              " 'It is also the most populous democracy in the world.',\n",
              " 'India has seven neighbours: Pakistan in the north-west, China and Nepal in the north, Bhutan and Bangladesh in the north-east, Myanmar in the east and Sri Lanka, an island, in the south.',\n",
              " 'The capital of India is New Delhi.',\n",
              " 'India is a peninsula, bound by the Indian Ocean in the south, the Arabian Sea on the west and Bay of Bengal in the east.',\n",
              " 'The coastline of India is of about 7,517 km (4,671 mi) long.',\n",
              " 'India has the third largest military force in the world and is also a nuclear weapon state.',\n",
              " \"India's economy became the world's fastest growing in the G20 developing nations in the last quarter of 2014, replacing the People's Republic of China.\",\n",
              " \"India's literacy and wealth are also rising.According to New World Wealth, India is the seventh richest country in the world with a total individual wealth of $5.6 trillion.\",\n",
              " 'However, it still has many social and economic issues like poverty and corruption.',\n",
              " 'India is a founding member of the World Trade Organisation (WTO), and has signed the Kyoto Protocol.',\n",
              " 'India has the fourth largest number of spoken languages per country in the world, only behind Papua New Guinea, Indonesia, and Nigeria.',\n",
              " 'People of many different religions live there, including the five most popular world religions: Hinduism, Buddhism, Sikhism, Islam, and Christianity.',\n",
              " 'The first three religions came from the Indian subcontinent along with Jainism.']"
            ]
          },
          "metadata": {
            "tags": []
          },
          "execution_count": 76
        }
      ]
    },
    {
      "cell_type": "markdown",
      "metadata": {
        "id": "NuQ5vLdW4djV",
        "colab_type": "text"
      },
      "source": [
        "###**Let's see our corpus after text cleaning and stemming**"
      ]
    },
    {
      "cell_type": "code",
      "metadata": {
        "id": "UD78qyJQ2nBc",
        "colab_type": "code",
        "colab": {
          "base_uri": "https://localhost:8080/",
          "height": 337
        },
        "outputId": "5fd0c3e3-c5ab-49ac-8901-363bc43e56ff"
      },
      "source": [
        "corpus"
      ],
      "execution_count": 77,
      "outputs": [
        {
          "output_type": "execute_result",
          "data": {
            "text/plain": [
              "['republ india countri asia',\n",
              " 'area squar kilometr sq mi',\n",
              " 'center south asia',\n",
              " 'india billion peopl second largest popul world',\n",
              " 'seventh largest countri world area largest countri south asia',\n",
              " 'also popul democraci world',\n",
              " 'india seven neighbour pakistan north west china nepal north bhutan bangladesh north east myanmar east sri lanka island south',\n",
              " 'capit india new delhi',\n",
              " 'india peninsula bound indian ocean south arabian sea west bay bengal east',\n",
              " 'coastlin india km mi long',\n",
              " 'india third largest militari forc world also nuclear weapon state',\n",
              " 'india economi becam world fastest grow g develop nation last quarter replac peopl republ china',\n",
              " 'india literaci wealth also rise accord new world wealth india seventh richest countri world total individu wealth trillion',\n",
              " 'howev still mani social econom issu like poverti corrupt',\n",
              " 'india found member world trade organis wto sign kyoto protocol',\n",
              " 'india fourth largest number spoken languag per countri world behind papua new guinea indonesia nigeria',\n",
              " 'peopl mani differ religion live includ five popular world religion hinduism buddhism sikhism islam christian',\n",
              " 'first three religion came indian subcontin along jainism']"
            ]
          },
          "metadata": {
            "tags": []
          },
          "execution_count": 77
        }
      ]
    },
    {
      "cell_type": "markdown",
      "metadata": {
        "id": "pzAL9BJ24lP9",
        "colab_type": "text"
      },
      "source": [
        "##**Observations:-** \n",
        "###**Stemming**\n",
        "- We first applied tokenization to our paragraph\n",
        "- Then we applied lemmatization to the tokenized sentences\n",
        "- After performing stemming the corpus consists of some words which has no meaning like \"republ\" , \"popul\" etc.\n",
        "- So, performing stemming will not be a preferred choice while text pre-processing for sentiment analysis\n",
        "- But we can surely use stemming in spam classification where meaningful words dont have a higher weightage than other words."
      ]
    }
  ]
}